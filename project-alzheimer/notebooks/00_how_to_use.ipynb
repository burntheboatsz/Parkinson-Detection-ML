{
 "cells": [
  {
   "cell_type": "markdown",
   "id": "e66f5750",
   "metadata": {},
   "source": [
    "# How to Use - Parkinson Disease Detection System\n",
    "\n",
    "Notebook ini berisi contoh lengkap cara menggunakan sistem dari awal sampai akhir."
   ]
  },
  {
   "cell_type": "markdown",
   "id": "80bbd4d8",
   "metadata": {},
   "source": [
    "## Quick Start Guide\n",
    "\n",
    "### Step 1: Install Dependencies\n",
    "\n",
    "Jalankan di terminal:\n",
    "```powershell\n",
    "pip install -r requirements.txt\n",
    "```"
   ]
  },
  {
   "cell_type": "markdown",
   "id": "9126ee9d",
   "metadata": {},
   "source": [
    "### Step 2: Prepare Dataset\n",
    "\n",
    "1. Letakkan dataset Parkinson di folder `data/`\n",
    "2. Rename menjadi `parkinsons.csv` atau sesuaikan path\n",
    "3. Pastikan format CSV dengan header"
   ]
  },
  {
   "cell_type": "markdown",
   "id": "64b9ba77",
   "metadata": {},
   "source": [
    "### Step 3: Run EDA\n",
    "\n",
    "Buka dan jalankan: `01_exploratory_data_analysis.ipynb`\n",
    "\n",
    "Ini akan:\n",
    "- Load dan eksplorasi dataset\n",
    "- Visualisasi distribusi data\n",
    "- Analisis korelasi\n",
    "- Save konfigurasi untuk training"
   ]
  },
  {
   "cell_type": "markdown",
   "id": "1df30d49",
   "metadata": {},
   "source": [
    "### Step 4: Train Models\n",
    "\n",
    "Buka dan jalankan: `02_model_training.ipynb`\n",
    "\n",
    "Ini akan:\n",
    "- Preprocessing data\n",
    "- Train 10 model berbeda\n",
    "- Evaluasi dan compare\n",
    "- Save model terbaik"
   ]
  },
  {
   "cell_type": "markdown",
   "id": "9c23b2e2",
   "metadata": {},
   "source": [
    "### Step 5: Make Predictions\n",
    "\n",
    "Setelah training selesai, Anda bisa predict dengan cara:"
   ]
  },
  {
   "cell_type": "markdown",
   "id": "a05217e6",
   "metadata": {},
   "source": [
    "#### Option 1: Using Script"
   ]
  },
  {
   "cell_type": "code",
   "execution_count": null,
   "id": "cb9b17dc",
   "metadata": {},
   "outputs": [],
   "source": [
    "# Jalankan di terminal:\n",
    "# python src/predict.py"
   ]
  },
  {
   "cell_type": "markdown",
   "id": "745ca9f2",
   "metadata": {},
   "source": [
    "#### Option 2: Using Code"
   ]
  },
  {
   "cell_type": "code",
   "execution_count": null,
   "id": "001276a8",
   "metadata": {},
   "outputs": [],
   "source": [
    "import sys\n",
    "sys.path.append('../src')\n",
    "\n",
    "from model_utils import ModelUtils\n",
    "\n",
    "# Load model\n",
    "model = ModelUtils.load_model('../models/random_forest.pkl')  # Sesuaikan nama model\n",
    "scaler, features = ModelUtils.load_preprocessing_params('../models')\n",
    "\n",
    "# Example patient data\n",
    "patient_data = {\n",
    "    'MDVP:Fo(Hz)': 197.076,\n",
    "    'MDVP:Fhi(Hz)': 206.896,\n",
    "    'MDVP:Flo(Hz)': 192.055,\n",
    "    # ... add all other features\n",
    "}\n",
    "\n",
    "# Predict\n",
    "result = ModelUtils.predict_single_patient(model, patient_data, scaler, features)\n",
    "print(result)"
   ]
  },
  {
   "cell_type": "markdown",
   "id": "ae58eb21",
   "metadata": {},
   "source": [
    "## Common Issues\n",
    "\n",
    "### Issue 1: Module not found\n",
    "**Solution:** Install dependencies\n",
    "```powershell\n",
    "pip install -r requirements.txt\n",
    "```\n",
    "\n",
    "### Issue 2: Dataset not found\n",
    "**Solution:** Check file path and ensure dataset is in `data/` folder\n",
    "\n",
    "### Issue 3: Model not found\n",
    "**Solution:** Train model first using `02_model_training.ipynb`"
   ]
  },
  {
   "cell_type": "markdown",
   "id": "1c5c8c4a",
   "metadata": {},
   "source": [
    "## Tips for Best Results\n",
    "\n",
    "1. **Data Quality**: Pastikan dataset berkualitas dan tidak ada missing values\n",
    "2. **Feature Engineering**: Coba buat features baru dari features yang ada\n",
    "3. **Hyperparameter Tuning**: Fine-tune model terbaik untuk hasil lebih optimal\n",
    "4. **Cross-Validation**: Gunakan cross-validation untuk validasi yang lebih robust\n",
    "5. **Ensemble Methods**: Combine beberapa model untuk hasil lebih baik"
   ]
  },
  {
   "cell_type": "markdown",
   "id": "bd4b80e5",
   "metadata": {},
   "source": [
    "## Next Steps\n",
    "\n",
    "1. ✅ Deploy as REST API\n",
    "2. ✅ Create Web UI with Streamlit\n",
    "3. ✅ Add more features\n",
    "4. ✅ Implement real-time prediction\n",
    "5. ✅ Add model monitoring"
   ]
  }
 ],
 "metadata": {
  "language_info": {
   "name": "python"
  }
 },
 "nbformat": 4,
 "nbformat_minor": 5
}
