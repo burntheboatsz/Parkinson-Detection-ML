{
 "cells": [
  {
   "cell_type": "markdown",
   "id": "de80790d",
   "metadata": {},
   "source": [
    "# Parkinson Disease Detection - Model Training & Evaluation\n",
    "\n",
    "Notebook ini untuk melatih dan mengevaluasi berbagai model machine learning.\n",
    "\n",
    "## Steps:\n",
    "1. Load Data & Configuration\n",
    "2. Data Preprocessing\n",
    "3. Train Multiple Models\n",
    "4. Evaluate Models\n",
    "5. Save Best Model"
   ]
  },
  {
   "cell_type": "code",
   "execution_count": 2,
   "id": "9e5e1b3e",
   "metadata": {},
   "outputs": [
    {
     "name": "stdout",
     "output_type": "stream",
     "text": [
      "✓ All libraries imported successfully\n"
     ]
    }
   ],
   "source": [
    "# Import Libraries\n",
    "import sys\n",
    "sys.path.append('../src')\n",
    "\n",
    "import pandas as pd\n",
    "import numpy as np\n",
    "import matplotlib.pyplot as plt\n",
    "import seaborn as sns\n",
    "import json\n",
    "import warnings\n",
    "warnings.filterwarnings('ignore')\n",
    "\n",
    "# Import custom modules\n",
    "from data_loader import DataLoader\n",
    "from preprocessing import DataPreprocessor\n",
    "from model_training import ModelTrainer\n",
    "from model_evaluation import ModelEvaluator\n",
    "from model_utils import ModelUtils\n",
    "\n",
    "# Set visualization style\n",
    "plt.style.use('seaborn-v0_8-darkgrid')\n",
    "sns.set_palette('husl')\n",
    "\n",
    "print('✓ All libraries imported successfully')"
   ]
  },
  {
   "cell_type": "markdown",
   "id": "031651a4",
   "metadata": {},
   "source": [
    "## 1. Load Data & Configuration"
   ]
  },
  {
   "cell_type": "code",
   "execution_count": 3,
   "id": "28d7eaf7",
   "metadata": {},
   "outputs": [
    {
     "name": "stdout",
     "output_type": "stream",
     "text": [
      "✓ Configuration loaded\n",
      "{\n",
      "  \"data_path\": \"../data/parkinsons.csv\",\n",
      "  \"target_column\": \"status\",\n",
      "  \"total_samples\": 195,\n",
      "  \"total_features\": 23,\n",
      "  \"class_distribution\": {\n",
      "    \"1\": 147,\n",
      "    \"0\": 48\n",
      "  }\n",
      "}\n"
     ]
    }
   ],
   "source": [
    "# Load configuration (jika sudah menjalankan EDA)\n",
    "try:\n",
    "    with open('../config.json', 'r') as f:\n",
    "        config = json.load(f)\n",
    "    print('✓ Configuration loaded')\n",
    "    print(json.dumps(config, indent=2))\n",
    "    \n",
    "    DATA_PATH = config['data_path']\n",
    "    TARGET_COL = config['target_column']\n",
    "except FileNotFoundError:\n",
    "    print('Config not found. Using default values.')\n",
    "    DATA_PATH = '../data/parkinsons.csv'\n",
    "    TARGET_COL = 'status'  # Sesuaikan dengan nama kolom target Anda"
   ]
  },
  {
   "cell_type": "code",
   "execution_count": 4,
   "id": "1d92d6c3",
   "metadata": {},
   "outputs": [
    {
     "name": "stdout",
     "output_type": "stream",
     "text": [
      "✓ Dataset berhasil di-load dari ../data/parkinsons.csv\n",
      "  Shape: (195, 24)\n",
      "\n",
      "============================================================\n",
      "INFORMASI DATASET\n",
      "============================================================\n",
      "\n",
      "Jumlah baris: 195\n",
      "Jumlah kolom: 24\n",
      "\n",
      "Kolom-kolom:\n",
      "['name', 'MDVP:Fo(Hz)', 'MDVP:Fhi(Hz)', 'MDVP:Flo(Hz)', 'MDVP:Jitter(%)', 'MDVP:Jitter(Abs)', 'MDVP:RAP', 'MDVP:PPQ', 'Jitter:DDP', 'MDVP:Shimmer', 'MDVP:Shimmer(dB)', 'Shimmer:APQ3', 'Shimmer:APQ5', 'MDVP:APQ', 'Shimmer:DDA', 'NHR', 'HNR', 'status', 'RPDE', 'DFA', 'spread1', 'spread2', 'D2', 'PPE']\n",
      "\n",
      "Tipe data:\n",
      "name                 object\n",
      "MDVP:Fo(Hz)         float64\n",
      "MDVP:Fhi(Hz)        float64\n",
      "MDVP:Flo(Hz)        float64\n",
      "MDVP:Jitter(%)      float64\n",
      "MDVP:Jitter(Abs)    float64\n",
      "MDVP:RAP            float64\n",
      "MDVP:PPQ            float64\n",
      "Jitter:DDP          float64\n",
      "MDVP:Shimmer        float64\n",
      "MDVP:Shimmer(dB)    float64\n",
      "Shimmer:APQ3        float64\n",
      "Shimmer:APQ5        float64\n",
      "MDVP:APQ            float64\n",
      "Shimmer:DDA         float64\n",
      "NHR                 float64\n",
      "HNR                 float64\n",
      "status                int64\n",
      "RPDE                float64\n",
      "DFA                 float64\n",
      "spread1             float64\n",
      "spread2             float64\n",
      "D2                  float64\n",
      "PPE                 float64\n",
      "dtype: object\n",
      "\n",
      "Missing values:\n",
      "name                0\n",
      "MDVP:Fo(Hz)         0\n",
      "MDVP:Fhi(Hz)        0\n",
      "MDVP:Flo(Hz)        0\n",
      "MDVP:Jitter(%)      0\n",
      "MDVP:Jitter(Abs)    0\n",
      "MDVP:RAP            0\n",
      "MDVP:PPQ            0\n",
      "Jitter:DDP          0\n",
      "MDVP:Shimmer        0\n",
      "MDVP:Shimmer(dB)    0\n",
      "Shimmer:APQ3        0\n",
      "Shimmer:APQ5        0\n",
      "MDVP:APQ            0\n",
      "Shimmer:DDA         0\n",
      "NHR                 0\n",
      "HNR                 0\n",
      "status              0\n",
      "RPDE                0\n",
      "DFA                 0\n",
      "spread1             0\n",
      "spread2             0\n",
      "D2                  0\n",
      "PPE                 0\n",
      "dtype: int64\n",
      "\n",
      "Statistik deskriptif:\n",
      "       MDVP:Fo(Hz)  MDVP:Fhi(Hz)  MDVP:Flo(Hz)  MDVP:Jitter(%)  \\\n",
      "count   195.000000    195.000000    195.000000      195.000000   \n",
      "mean    154.228641    197.104918    116.324631        0.006220   \n",
      "std      41.390065     91.491548     43.521413        0.004848   \n",
      "min      88.333000    102.145000     65.476000        0.001680   \n",
      "25%     117.572000    134.862500     84.291000        0.003460   \n",
      "50%     148.790000    175.829000    104.315000        0.004940   \n",
      "75%     182.769000    224.205500    140.018500        0.007365   \n",
      "max     260.105000    592.030000    239.170000        0.033160   \n",
      "\n",
      "       MDVP:Jitter(Abs)    MDVP:RAP    MDVP:PPQ  Jitter:DDP  MDVP:Shimmer  \\\n",
      "count        195.000000  195.000000  195.000000  195.000000    195.000000   \n",
      "mean           0.000044    0.003306    0.003446    0.009920      0.029709   \n",
      "std            0.000035    0.002968    0.002759    0.008903      0.018857   \n",
      "min            0.000007    0.000680    0.000920    0.002040      0.009540   \n",
      "25%            0.000020    0.001660    0.001860    0.004985      0.016505   \n",
      "50%            0.000030    0.002500    0.002690    0.007490      0.022970   \n",
      "75%            0.000060    0.003835    0.003955    0.011505      0.037885   \n",
      "max            0.000260    0.021440    0.019580    0.064330      0.119080   \n",
      "\n",
      "       MDVP:Shimmer(dB)  ...  Shimmer:DDA         NHR         HNR      status  \\\n",
      "count        195.000000  ...   195.000000  195.000000  195.000000  195.000000   \n",
      "mean           0.282251  ...     0.046993    0.024847   21.885974    0.753846   \n",
      "std            0.194877  ...     0.030459    0.040418    4.425764    0.431878   \n",
      "min            0.085000  ...     0.013640    0.000650    8.441000    0.000000   \n",
      "25%            0.148500  ...     0.024735    0.005925   19.198000    1.000000   \n",
      "50%            0.221000  ...     0.038360    0.011660   22.085000    1.000000   \n",
      "75%            0.350000  ...     0.060795    0.025640   25.075500    1.000000   \n",
      "max            1.302000  ...     0.169420    0.314820   33.047000    1.000000   \n",
      "\n",
      "             RPDE         DFA     spread1     spread2          D2         PPE  \n",
      "count  195.000000  195.000000  195.000000  195.000000  195.000000  195.000000  \n",
      "mean     0.498536    0.718099   -5.684397    0.226510    2.381826    0.206552  \n",
      "std      0.103942    0.055336    1.090208    0.083406    0.382799    0.090119  \n",
      "min      0.256570    0.574282   -7.964984    0.006274    1.423287    0.044539  \n",
      "25%      0.421306    0.674758   -6.450096    0.174351    2.099125    0.137451  \n",
      "50%      0.495954    0.722254   -5.720868    0.218885    2.361532    0.194052  \n",
      "75%      0.587562    0.761881   -5.046192    0.279234    2.636456    0.252980  \n",
      "max      0.685151    0.825288   -2.434031    0.450493    3.671155    0.527367  \n",
      "\n",
      "[8 rows x 23 columns]\n",
      "\n",
      "\n",
      "Distribusi Target (status):\n",
      "status\n",
      "1    147\n",
      "0     48\n",
      "Name: count, dtype: int64\n",
      "\n",
      "Persentase:\n",
      "status\n",
      "1    75.384615\n",
      "0    24.615385\n",
      "Name: proportion, dtype: float64\n",
      "<class 'pandas.core.frame.DataFrame'>\n",
      "RangeIndex: 195 entries, 0 to 194\n",
      "Data columns (total 24 columns):\n",
      " #   Column            Non-Null Count  Dtype  \n",
      "---  ------            --------------  -----  \n",
      " 0   name              195 non-null    object \n",
      " 1   MDVP:Fo(Hz)       195 non-null    float64\n",
      " 2   MDVP:Fhi(Hz)      195 non-null    float64\n",
      " 3   MDVP:Flo(Hz)      195 non-null    float64\n",
      " 4   MDVP:Jitter(%)    195 non-null    float64\n",
      " 5   MDVP:Jitter(Abs)  195 non-null    float64\n",
      " 6   MDVP:RAP          195 non-null    float64\n",
      " 7   MDVP:PPQ          195 non-null    float64\n",
      " 8   Jitter:DDP        195 non-null    float64\n",
      " 9   MDVP:Shimmer      195 non-null    float64\n",
      " 10  MDVP:Shimmer(dB)  195 non-null    float64\n",
      " 11  Shimmer:APQ3      195 non-null    float64\n",
      " 12  Shimmer:APQ5      195 non-null    float64\n",
      " 13  MDVP:APQ          195 non-null    float64\n",
      " 14  Shimmer:DDA       195 non-null    float64\n",
      " 15  NHR               195 non-null    float64\n",
      " 16  HNR               195 non-null    float64\n",
      " 17  status            195 non-null    int64  \n",
      " 18  RPDE              195 non-null    float64\n",
      " 19  DFA               195 non-null    float64\n",
      " 20  spread1           195 non-null    float64\n",
      " 21  spread2           195 non-null    float64\n",
      " 22  D2                195 non-null    float64\n",
      " 23  PPE               195 non-null    float64\n",
      "dtypes: float64(22), int64(1), object(1)\n",
      "memory usage: 36.7+ KB\n"
     ]
    }
   ],
   "source": [
    "# Load dataset using custom DataLoader\n",
    "loader = DataLoader(DATA_PATH)\n",
    "df = loader.load_data()\n",
    "\n",
    "if df is not None:\n",
    "    loader.get_info()"
   ]
  },
  {
   "cell_type": "markdown",
   "id": "3bdc60f5",
   "metadata": {},
   "source": [
    "## 2. Data Preprocessing"
   ]
  },
  {
   "cell_type": "code",
   "execution_count": 5,
   "id": "0ada6ec7",
   "metadata": {},
   "outputs": [
    {
     "name": "stdout",
     "output_type": "stream",
     "text": [
      "\n",
      "============================================================\n",
      "DATA PREPROCESSING\n",
      "============================================================\n",
      "\n",
      "✓ Features: 22 kolom\n",
      "✓ Target: status\n",
      "✓ Distribusi target: {1: 147, 0: 48}\n",
      "\n",
      "✓ Data split: 156 training, 39 testing\n",
      "✓ Data di-scale menggunakan standard scaler\n",
      "\n",
      "============================================================\n",
      "\n",
      "✓ Preprocessing completed!\n",
      "  X_train shape: (156, 22)\n",
      "  X_test shape: (39, 22)\n",
      "  y_train shape: (156,)\n",
      "  y_test shape: (39,)\n"
     ]
    }
   ],
   "source": [
    "if df is not None:\n",
    "    # Tentukan kolom yang akan di-drop (misal: 'name', 'id')\n",
    "    # Sesuaikan dengan dataset Anda\n",
    "    drop_cols = ['name'] if 'name' in df.columns else []\n",
    "    \n",
    "    # Initialize preprocessor\n",
    "    preprocessor = DataPreprocessor()\n",
    "    \n",
    "    # Prepare data dengan full pipeline\n",
    "    X_train, X_test, y_train, y_test = preprocessor.prepare_data(\n",
    "        df=df,\n",
    "        target_col=TARGET_COL,\n",
    "        drop_cols=drop_cols,\n",
    "        test_size=0.2,\n",
    "        random_state=42,\n",
    "        scale=True,           # Scaling data\n",
    "        balance=False,        # Set True jika data imbalanced\n",
    "        balance_method='smote'\n",
    "    )\n",
    "    \n",
    "    print(f'\\n✓ Preprocessing completed!')\n",
    "    print(f'  X_train shape: {X_train.shape}')\n",
    "    print(f'  X_test shape: {X_test.shape}')\n",
    "    print(f'  y_train shape: {y_train.shape}')\n",
    "    print(f'  y_test shape: {y_test.shape}')"
   ]
  },
  {
   "cell_type": "markdown",
   "id": "44424599",
   "metadata": {},
   "source": [
    "## 3. Train Multiple Models"
   ]
  },
  {
   "cell_type": "code",
   "execution_count": 6,
   "id": "d223a3f8",
   "metadata": {},
   "outputs": [
    {
     "name": "stdout",
     "output_type": "stream",
     "text": [
      "✓ 10 model telah di-initialize\n",
      "\n",
      "Available models:\n",
      "  1. Logistic Regression\n",
      "  2. Decision Tree\n",
      "  3. Random Forest\n",
      "  4. SVM\n",
      "  5. KNN\n",
      "  6. Naive Bayes\n",
      "  7. Gradient Boosting\n",
      "  8. XGBoost\n",
      "  9. LightGBM\n",
      "  10. CatBoost\n"
     ]
    }
   ],
   "source": [
    "# Initialize trainer\n",
    "trainer = ModelTrainer()\n",
    "\n",
    "# Initialize models\n",
    "models = trainer.initialize_models()\n",
    "\n",
    "print('\\nAvailable models:')\n",
    "for i, model_name in enumerate(models.keys(), 1):\n",
    "    print(f'  {i}. {model_name}')"
   ]
  },
  {
   "cell_type": "code",
   "execution_count": 7,
   "id": "23628beb",
   "metadata": {},
   "outputs": [
    {
     "name": "stdout",
     "output_type": "stream",
     "text": [
      "\n",
      "============================================================\n",
      "TRAINING MODELS\n",
      "============================================================\n",
      "\n",
      "Training Logistic Regression... ✓\n",
      "Training Decision Tree... ✓\n",
      "Training Random Forest... ✓\n",
      "Training SVM... ✓\n",
      "Training KNN... ✓\n",
      "Training Naive Bayes... ✓\n",
      "Training Gradient Boosting... ✓\n",
      "Training SVM... ✓\n",
      "Training KNN... ✓\n",
      "Training Naive Bayes... ✓\n",
      "Training Gradient Boosting... ✓\n",
      "Training XGBoost... ✓\n",
      "Training LightGBM... ✓\n",
      "Training CatBoost... ✓\n",
      "Training XGBoost... ✓\n",
      "Training LightGBM... ✓\n",
      "Training CatBoost... "
     ]
    },
    {
     "name": "stderr",
     "output_type": "stream",
     "text": [
      "  File \"d:\\vscode\\project-alzheimer\\.venv\\Lib\\site-packages\\joblib\\externals\\loky\\backend\\context.py\", line 257, in _count_physical_cores\n",
      "    cpu_info = subprocess.run(\n",
      "               ^^^^^^^^^^^^^^^\n",
      "  File \"C:\\Program Files\\WindowsApps\\PythonSoftwareFoundation.Python.3.11_3.11.2544.0_x64__qbz5n2kfra8p0\\Lib\\subprocess.py\", line 548, in run\n",
      "    with Popen(*popenargs, **kwargs) as process:\n",
      "         ^^^^^^^^^^^^^^^^^^^^^^^^^^^\n",
      "  File \"C:\\Program Files\\WindowsApps\\PythonSoftwareFoundation.Python.3.11_3.11.2544.0_x64__qbz5n2kfra8p0\\Lib\\subprocess.py\", line 1026, in __init__\n",
      "    self._execute_child(args, executable, preexec_fn, close_fds,\n",
      "  File \"C:\\Program Files\\WindowsApps\\PythonSoftwareFoundation.Python.3.11_3.11.2544.0_x64__qbz5n2kfra8p0\\Lib\\subprocess.py\", line 1538, in _execute_child\n",
      "    hp, ht, pid, tid = _winapi.CreateProcess(executable, args,\n",
      "                       ^^^^^^^^^^^^^^^^^^^^^^^^^^^^^^^^^^^^^^^\n"
     ]
    },
    {
     "name": "stdout",
     "output_type": "stream",
     "text": [
      "✓\n",
      "\n",
      "✓ 10 model berhasil di-train\n",
      "============================================================\n",
      "\n",
      "Total training time: 2.77 seconds\n"
     ]
    }
   ],
   "source": [
    "# Train all models\n",
    "import time\n",
    "\n",
    "start_time = time.time()\n",
    "trained_models = trainer.train_all_models(X_train, y_train)\n",
    "training_time = time.time() - start_time\n",
    "\n",
    "print(f'\\nTotal training time: {training_time:.2f} seconds')"
   ]
  },
  {
   "cell_type": "markdown",
   "id": "83d3683a",
   "metadata": {},
   "source": [
    "## 4. Evaluate Models"
   ]
  },
  {
   "cell_type": "code",
   "execution_count": 8,
   "id": "4c886ac3",
   "metadata": {},
   "outputs": [
    {
     "name": "stdout",
     "output_type": "stream",
     "text": [
      "\n",
      "============================================================\n",
      "EVALUASI MODELS\n",
      "============================================================\n",
      "\n",
      "✓ Logistic Regression evaluated\n",
      "✓ Decision Tree evaluated\n",
      "✓ Random Forest evaluated\n",
      "✓ SVM evaluated\n",
      "✓ KNN evaluated\n",
      "✓ Naive Bayes evaluated\n",
      "✓ Gradient Boosting evaluated\n",
      "✓ XGBoost evaluated\n",
      "✓ LightGBM evaluated\n",
      "✓ CatBoost evaluated\n",
      "\n",
      "============================================================\n",
      "HASIL EVALUASI\n",
      "============================================================\n",
      "              Model  Accuracy  Precision   Recall  F1-Score  ROC-AUC\n",
      "            XGBoost  0.948718   0.948718 0.948718  0.948718 0.968966\n",
      "           CatBoost  0.948718   0.948718 0.948718  0.948718 0.982759\n",
      "Logistic Regression  0.923077   0.921937 0.923077  0.921705 0.924138\n",
      "      Random Forest  0.923077   0.921937 0.923077  0.921705 0.962069\n",
      "                SVM  0.923077   0.930288 0.923077  0.918181 0.955172\n",
      "                KNN  0.923077   0.921937 0.923077  0.921705 0.963793\n",
      "  Gradient Boosting  0.923077   0.926823 0.923077  0.924234 0.968966\n",
      "           LightGBM  0.923077   0.921937 0.923077  0.921705 0.951724\n",
      "      Decision Tree  0.846154   0.846154 0.846154  0.846154 0.798276\n",
      "        Naive Bayes  0.666667   0.855072 0.666667  0.684175 0.865517\n",
      "============================================================\n",
      "\n"
     ]
    }
   ],
   "source": [
    "# Initialize evaluator\n",
    "evaluator = ModelEvaluator()\n",
    "\n",
    "# Evaluate all models\n",
    "results_df = evaluator.evaluate_all_models(trained_models, X_test, y_test)"
   ]
  },
  {
   "cell_type": "code",
   "execution_count": 9,
   "id": "d77f2d7d",
   "metadata": {},
   "outputs": [
    {
     "data": {
      "text/html": [
       "<style type=\"text/css\">\n",
       "#T_62ace_row0_col1, #T_62ace_row0_col2, #T_62ace_row0_col3, #T_62ace_row0_col4, #T_62ace_row1_col1, #T_62ace_row1_col2, #T_62ace_row1_col3, #T_62ace_row1_col4 {\n",
       "  background-color: #00441b;\n",
       "  color: #f1f1f1;\n",
       "}\n",
       "#T_62ace_row2_col1, #T_62ace_row2_col3, #T_62ace_row3_col1, #T_62ace_row3_col3, #T_62ace_row4_col1, #T_62ace_row4_col3, #T_62ace_row5_col1, #T_62ace_row5_col3, #T_62ace_row6_col1, #T_62ace_row6_col3, #T_62ace_row6_col4, #T_62ace_row7_col1, #T_62ace_row7_col3 {\n",
       "  background-color: #006227;\n",
       "  color: #f1f1f1;\n",
       "}\n",
       "#T_62ace_row2_col2, #T_62ace_row3_col2, #T_62ace_row5_col2, #T_62ace_row7_col2 {\n",
       "  background-color: #258d47;\n",
       "  color: #f1f1f1;\n",
       "}\n",
       "#T_62ace_row2_col4, #T_62ace_row3_col4, #T_62ace_row5_col4, #T_62ace_row7_col4 {\n",
       "  background-color: #006529;\n",
       "  color: #f1f1f1;\n",
       "}\n",
       "#T_62ace_row4_col2 {\n",
       "  background-color: #0e7936;\n",
       "  color: #f1f1f1;\n",
       "}\n",
       "#T_62ace_row4_col4 {\n",
       "  background-color: #00692a;\n",
       "  color: #f1f1f1;\n",
       "}\n",
       "#T_62ace_row6_col2 {\n",
       "  background-color: #18823d;\n",
       "  color: #f1f1f1;\n",
       "}\n",
       "#T_62ace_row8_col1, #T_62ace_row8_col3 {\n",
       "  background-color: #3fa85b;\n",
       "  color: #f1f1f1;\n",
       "}\n",
       "#T_62ace_row8_col2, #T_62ace_row9_col1, #T_62ace_row9_col3, #T_62ace_row9_col4 {\n",
       "  background-color: #f7fcf5;\n",
       "  color: #000000;\n",
       "}\n",
       "#T_62ace_row8_col4 {\n",
       "  background-color: #46ae60;\n",
       "  color: #f1f1f1;\n",
       "}\n",
       "#T_62ace_row9_col2 {\n",
       "  background-color: #ebf7e7;\n",
       "  color: #000000;\n",
       "}\n",
       "</style>\n",
       "<table id=\"T_62ace\">\n",
       "  <thead>\n",
       "    <tr>\n",
       "      <th class=\"blank level0\" >&nbsp;</th>\n",
       "      <th id=\"T_62ace_level0_col0\" class=\"col_heading level0 col0\" >Model</th>\n",
       "      <th id=\"T_62ace_level0_col1\" class=\"col_heading level0 col1\" >Accuracy</th>\n",
       "      <th id=\"T_62ace_level0_col2\" class=\"col_heading level0 col2\" >Precision</th>\n",
       "      <th id=\"T_62ace_level0_col3\" class=\"col_heading level0 col3\" >Recall</th>\n",
       "      <th id=\"T_62ace_level0_col4\" class=\"col_heading level0 col4\" >F1-Score</th>\n",
       "      <th id=\"T_62ace_level0_col5\" class=\"col_heading level0 col5\" >ROC-AUC</th>\n",
       "    </tr>\n",
       "  </thead>\n",
       "  <tbody>\n",
       "    <tr>\n",
       "      <th id=\"T_62ace_level0_row0\" class=\"row_heading level0 row0\" >0</th>\n",
       "      <td id=\"T_62ace_row0_col0\" class=\"data row0 col0\" >XGBoost</td>\n",
       "      <td id=\"T_62ace_row0_col1\" class=\"data row0 col1\" >0.948718</td>\n",
       "      <td id=\"T_62ace_row0_col2\" class=\"data row0 col2\" >0.948718</td>\n",
       "      <td id=\"T_62ace_row0_col3\" class=\"data row0 col3\" >0.948718</td>\n",
       "      <td id=\"T_62ace_row0_col4\" class=\"data row0 col4\" >0.948718</td>\n",
       "      <td id=\"T_62ace_row0_col5\" class=\"data row0 col5\" >0.968966</td>\n",
       "    </tr>\n",
       "    <tr>\n",
       "      <th id=\"T_62ace_level0_row1\" class=\"row_heading level0 row1\" >1</th>\n",
       "      <td id=\"T_62ace_row1_col0\" class=\"data row1 col0\" >CatBoost</td>\n",
       "      <td id=\"T_62ace_row1_col1\" class=\"data row1 col1\" >0.948718</td>\n",
       "      <td id=\"T_62ace_row1_col2\" class=\"data row1 col2\" >0.948718</td>\n",
       "      <td id=\"T_62ace_row1_col3\" class=\"data row1 col3\" >0.948718</td>\n",
       "      <td id=\"T_62ace_row1_col4\" class=\"data row1 col4\" >0.948718</td>\n",
       "      <td id=\"T_62ace_row1_col5\" class=\"data row1 col5\" >0.982759</td>\n",
       "    </tr>\n",
       "    <tr>\n",
       "      <th id=\"T_62ace_level0_row2\" class=\"row_heading level0 row2\" >2</th>\n",
       "      <td id=\"T_62ace_row2_col0\" class=\"data row2 col0\" >Logistic Regression</td>\n",
       "      <td id=\"T_62ace_row2_col1\" class=\"data row2 col1\" >0.923077</td>\n",
       "      <td id=\"T_62ace_row2_col2\" class=\"data row2 col2\" >0.921937</td>\n",
       "      <td id=\"T_62ace_row2_col3\" class=\"data row2 col3\" >0.923077</td>\n",
       "      <td id=\"T_62ace_row2_col4\" class=\"data row2 col4\" >0.921705</td>\n",
       "      <td id=\"T_62ace_row2_col5\" class=\"data row2 col5\" >0.924138</td>\n",
       "    </tr>\n",
       "    <tr>\n",
       "      <th id=\"T_62ace_level0_row3\" class=\"row_heading level0 row3\" >3</th>\n",
       "      <td id=\"T_62ace_row3_col0\" class=\"data row3 col0\" >Random Forest</td>\n",
       "      <td id=\"T_62ace_row3_col1\" class=\"data row3 col1\" >0.923077</td>\n",
       "      <td id=\"T_62ace_row3_col2\" class=\"data row3 col2\" >0.921937</td>\n",
       "      <td id=\"T_62ace_row3_col3\" class=\"data row3 col3\" >0.923077</td>\n",
       "      <td id=\"T_62ace_row3_col4\" class=\"data row3 col4\" >0.921705</td>\n",
       "      <td id=\"T_62ace_row3_col5\" class=\"data row3 col5\" >0.962069</td>\n",
       "    </tr>\n",
       "    <tr>\n",
       "      <th id=\"T_62ace_level0_row4\" class=\"row_heading level0 row4\" >4</th>\n",
       "      <td id=\"T_62ace_row4_col0\" class=\"data row4 col0\" >SVM</td>\n",
       "      <td id=\"T_62ace_row4_col1\" class=\"data row4 col1\" >0.923077</td>\n",
       "      <td id=\"T_62ace_row4_col2\" class=\"data row4 col2\" >0.930288</td>\n",
       "      <td id=\"T_62ace_row4_col3\" class=\"data row4 col3\" >0.923077</td>\n",
       "      <td id=\"T_62ace_row4_col4\" class=\"data row4 col4\" >0.918181</td>\n",
       "      <td id=\"T_62ace_row4_col5\" class=\"data row4 col5\" >0.955172</td>\n",
       "    </tr>\n",
       "    <tr>\n",
       "      <th id=\"T_62ace_level0_row5\" class=\"row_heading level0 row5\" >5</th>\n",
       "      <td id=\"T_62ace_row5_col0\" class=\"data row5 col0\" >KNN</td>\n",
       "      <td id=\"T_62ace_row5_col1\" class=\"data row5 col1\" >0.923077</td>\n",
       "      <td id=\"T_62ace_row5_col2\" class=\"data row5 col2\" >0.921937</td>\n",
       "      <td id=\"T_62ace_row5_col3\" class=\"data row5 col3\" >0.923077</td>\n",
       "      <td id=\"T_62ace_row5_col4\" class=\"data row5 col4\" >0.921705</td>\n",
       "      <td id=\"T_62ace_row5_col5\" class=\"data row5 col5\" >0.963793</td>\n",
       "    </tr>\n",
       "    <tr>\n",
       "      <th id=\"T_62ace_level0_row6\" class=\"row_heading level0 row6\" >6</th>\n",
       "      <td id=\"T_62ace_row6_col0\" class=\"data row6 col0\" >Gradient Boosting</td>\n",
       "      <td id=\"T_62ace_row6_col1\" class=\"data row6 col1\" >0.923077</td>\n",
       "      <td id=\"T_62ace_row6_col2\" class=\"data row6 col2\" >0.926823</td>\n",
       "      <td id=\"T_62ace_row6_col3\" class=\"data row6 col3\" >0.923077</td>\n",
       "      <td id=\"T_62ace_row6_col4\" class=\"data row6 col4\" >0.924234</td>\n",
       "      <td id=\"T_62ace_row6_col5\" class=\"data row6 col5\" >0.968966</td>\n",
       "    </tr>\n",
       "    <tr>\n",
       "      <th id=\"T_62ace_level0_row7\" class=\"row_heading level0 row7\" >7</th>\n",
       "      <td id=\"T_62ace_row7_col0\" class=\"data row7 col0\" >LightGBM</td>\n",
       "      <td id=\"T_62ace_row7_col1\" class=\"data row7 col1\" >0.923077</td>\n",
       "      <td id=\"T_62ace_row7_col2\" class=\"data row7 col2\" >0.921937</td>\n",
       "      <td id=\"T_62ace_row7_col3\" class=\"data row7 col3\" >0.923077</td>\n",
       "      <td id=\"T_62ace_row7_col4\" class=\"data row7 col4\" >0.921705</td>\n",
       "      <td id=\"T_62ace_row7_col5\" class=\"data row7 col5\" >0.951724</td>\n",
       "    </tr>\n",
       "    <tr>\n",
       "      <th id=\"T_62ace_level0_row8\" class=\"row_heading level0 row8\" >8</th>\n",
       "      <td id=\"T_62ace_row8_col0\" class=\"data row8 col0\" >Decision Tree</td>\n",
       "      <td id=\"T_62ace_row8_col1\" class=\"data row8 col1\" >0.846154</td>\n",
       "      <td id=\"T_62ace_row8_col2\" class=\"data row8 col2\" >0.846154</td>\n",
       "      <td id=\"T_62ace_row8_col3\" class=\"data row8 col3\" >0.846154</td>\n",
       "      <td id=\"T_62ace_row8_col4\" class=\"data row8 col4\" >0.846154</td>\n",
       "      <td id=\"T_62ace_row8_col5\" class=\"data row8 col5\" >0.798276</td>\n",
       "    </tr>\n",
       "    <tr>\n",
       "      <th id=\"T_62ace_level0_row9\" class=\"row_heading level0 row9\" >9</th>\n",
       "      <td id=\"T_62ace_row9_col0\" class=\"data row9 col0\" >Naive Bayes</td>\n",
       "      <td id=\"T_62ace_row9_col1\" class=\"data row9 col1\" >0.666667</td>\n",
       "      <td id=\"T_62ace_row9_col2\" class=\"data row9 col2\" >0.855072</td>\n",
       "      <td id=\"T_62ace_row9_col3\" class=\"data row9 col3\" >0.666667</td>\n",
       "      <td id=\"T_62ace_row9_col4\" class=\"data row9 col4\" >0.684175</td>\n",
       "      <td id=\"T_62ace_row9_col5\" class=\"data row9 col5\" >0.865517</td>\n",
       "    </tr>\n",
       "  </tbody>\n",
       "</table>\n"
      ],
      "text/plain": [
       "<pandas.io.formats.style.Styler at 0x272ab1db2d0>"
      ]
     },
     "metadata": {},
     "output_type": "display_data"
    }
   ],
   "source": [
    "# Display results in a nice format\n",
    "display(results_df.style.background_gradient(cmap='Greens', subset=['Accuracy', 'Precision', 'Recall', 'F1-Score']))"
   ]
  },
  {
   "cell_type": "code",
   "execution_count": 10,
   "id": "9cfded1f",
   "metadata": {},
   "outputs": [
    {
     "name": "stdout",
     "output_type": "stream",
     "text": [
      "✓ Comparison plot saved to ../results/model_comparison.png\n"
     ]
    },
    {
     "data": {
      "image/png": "[encoded data removed]",
      "text/plain": [
       "<Figure size 1400x800 with 4 Axes>"
      ]
     },
     "metadata": {},
     "output_type": "display_data"
    }
   ],
   "source": [
    "# Plot model comparison\n",
    "evaluator.plot_model_comparison(results_df, figsize=(14, 8), \n",
    "                               save_path='../results/model_comparison.png')"
   ]
  },
  {
   "cell_type": "code",
   "execution_count": 11,
   "id": "316b458f",
   "metadata": {},
   "outputs": [
    {
     "name": "stdout",
     "output_type": "stream",
     "text": [
      "\n",
      "🏆 Best Model: XGBoost\n",
      "   Accuracy: 0.9487\n"
     ]
    }
   ],
   "source": [
    "# Get best model\n",
    "best_model_name = results_df.iloc[0]['Model']\n",
    "best_accuracy = results_df.iloc[0]['Accuracy']\n",
    "\n",
    "print(f'\\n🏆 Best Model: {best_model_name}')\n",
    "print(f'   Accuracy: {best_accuracy:.4f}')\n",
    "\n",
    "best_model = trainer.get_model(best_model_name)"
   ]
  },
  {
   "cell_type": "code",
   "execution_count": 12,
   "id": "862c8c0f",
   "metadata": {},
   "outputs": [
    {
     "name": "stdout",
     "output_type": "stream",
     "text": [
      "✓ Confusion matrix saved to ../results/confusion_matrix_xgboost.png\n"
     ]
    },
    {
     "data": {
      "image/png": "[encoded data removed]",
      "text/plain": [
       "<Figure size 800x600 with 1 Axes>"
      ]
     },
     "metadata": {},
     "output_type": "display_data"
    }
   ],
   "source": [
    "# Plot confusion matrix for best model\n",
    "evaluator.plot_confusion_matrix(best_model_name, figsize=(8, 6),\n",
    "                               save_path=f'../results/confusion_matrix_{best_model_name.replace(\" \", \"_\").lower()}.png')"
   ]
  },
  {
   "cell_type": "code",
   "execution_count": 13,
   "id": "7df8dd91",
   "metadata": {},
   "outputs": [
    {
     "name": "stdout",
     "output_type": "stream",
     "text": [
      "Classification Report - XGBoost\n",
      "============================================================\n",
      "              precision    recall  f1-score   support\n",
      "\n",
      "     Healthy       0.90      0.90      0.90        10\n",
      "   Parkinson       0.97      0.97      0.97        29\n",
      "\n",
      "    accuracy                           0.95        39\n",
      "   macro avg       0.93      0.93      0.93        39\n",
      "weighted avg       0.95      0.95      0.95        39\n",
      "\n"
     ]
    }
   ],
   "source": [
    "# Detailed classification report for best model\n",
    "from sklearn.metrics import classification_report\n",
    "\n",
    "y_pred = best_model.predict(X_test)\n",
    "\n",
    "print(f'Classification Report - {best_model_name}')\n",
    "print('='*60)\n",
    "print(classification_report(y_test, y_pred, target_names=['Healthy', 'Parkinson']))"
   ]
  },
  {
   "cell_type": "markdown",
   "id": "9709ee68",
   "metadata": {},
   "source": [
    "## 5. Save Best Model"
   ]
  },
  {
   "cell_type": "code",
   "execution_count": 14,
   "id": "475beb77",
   "metadata": {},
   "outputs": [
    {
     "name": "stdout",
     "output_type": "stream",
     "text": [
      "✓ Model saved to ..\\models\\xgboost.pkl\n",
      "✓ Scaler saved to ..\\models\\scaler.pkl\n",
      "✓ Feature names saved to ..\\models\\feature_names.json\n",
      "✓ Evaluation results saved to results/evaluation_results.csv\n"
     ]
    }
   ],
   "source": [
    "# Save best model\n",
    "model_path = ModelUtils.save_model(best_model, best_model_name, save_dir='../models')\n",
    "\n",
    "# Save preprocessing parameters\n",
    "ModelUtils.save_preprocessing_params(\n",
    "    scaler=preprocessor.scaler,\n",
    "    feature_names=preprocessor.feature_names,\n",
    "    save_dir='../models'\n",
    ")\n",
    "\n",
    "# Save evaluation results\n",
    "results_df.to_csv('../results/evaluation_results.csv', index=False)\n",
    "print('✓ Evaluation results saved to results/evaluation_results.csv')"
   ]
  },
  {
   "cell_type": "markdown",
   "id": "9ad9c2f8",
   "metadata": {},
   "source": [
    "## 6. Test Prediction on New Data"
   ]
  },
  {
   "cell_type": "code",
   "execution_count": 15,
   "id": "dcf65a9e",
   "metadata": {},
   "outputs": [
    {
     "name": "stdout",
     "output_type": "stream",
     "text": [
      "Sample Prediction:\n",
      "============================================================\n",
      "Actual: Healthy\n",
      "Predicted: Healthy\n",
      "Probability - Healthy: 0.6091\n",
      "Probability - Parkinson: 0.3909\n",
      "============================================================\n"
     ]
    }
   ],
   "source": [
    "# Example: Predict for one sample from test set\n",
    "sample_idx = 0\n",
    "sample_data = X_test[sample_idx:sample_idx+1]\n",
    "actual_label = y_test.iloc[sample_idx]\n",
    "\n",
    "prediction = best_model.predict(sample_data)[0]\n",
    "probability = best_model.predict_proba(sample_data)[0]\n",
    "\n",
    "print('Sample Prediction:')\n",
    "print('='*60)\n",
    "print(f'Actual: {\"Parkinson\" if actual_label == 1 else \"Healthy\"}')\n",
    "print(f'Predicted: {\"Parkinson\" if prediction == 1 else \"Healthy\"}')\n",
    "print(f'Probability - Healthy: {probability[0]:.4f}')\n",
    "print(f'Probability - Parkinson: {probability[1]:.4f}')\n",
    "print('='*60)"
   ]
  },
  {
   "cell_type": "markdown",
   "id": "9ff7213c",
   "metadata": {},
   "source": [
    "## Summary\n",
    "\n",
    "✓ **Completed Tasks:**\n",
    "1. Data loaded and preprocessed\n",
    "2. Multiple models trained\n",
    "3. Models evaluated and compared\n",
    "4. Best model saved\n",
    "5. Ready for deployment!\n",
    "\n",
    "**Next Steps:**\n",
    "- Use the saved model for predictions\n",
    "- Create a simple API or GUI for predictions\n",
    "- Deploy to production if needed"
   ]
  }
 ],
 "metadata": {
  "kernelspec": {
   "display_name": ".venv",
   "language": "python",
   "name": "python3"
  },
  "language_info": {
   "codemirror_mode": {
    "name": "ipython",
    "version": 3
   },
   "file_extension": ".py",
   "mimetype": "text/x-python",
   "name": "python",
   "nbconvert_exporter": "python",
   "pygments_lexer": "ipython3",
   "version": "3.11.9"
  }
 },
 "nbformat": 4,
 "nbformat_minor": 5
}
